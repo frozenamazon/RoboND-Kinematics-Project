{
 "cells": [
  {
   "cell_type": "markdown",
   "metadata": {},
   "source": [
    "## Kinematics Project Test notebook"
   ]
  },
  {
   "cell_type": "code",
   "execution_count": 2,
   "metadata": {},
   "outputs": [],
   "source": [
    "from sympy import symbols, cos, sin, pi, sqrt, simplify\n",
    "from sympy.matrices import Matrix\n",
    "import numpy as np"
   ]
  },
  {
   "cell_type": "markdown",
   "metadata": {},
   "source": [
    "### Forward Kinematics\n",
    "This is to get the forward kinematics, the convention is marked in the image below\n",
    "\n",
    "\n",
    "![alt text](DH.png \"DH annotation\")\n"
   ]
  },
  {
   "cell_type": "markdown",
   "metadata": {},
   "source": [
    "#### DH Parameters for Kuka arm\n",
    "Following the DH Convention\n",
    "\n",
    "| i        | a(i-1)  | a(i-1)  | d(i-1)  | θ(i-1)  |\n",
    "| :------- |:-------:|:-------:|:-------:|:-------:|\n",
    "| 1        | 0       | 0       | d1      |θ1       |\n",
    "| 2        | -90     | a1      | 0       |θ2 - 90  |\n",
    "| 3        | 0       | a2      | 0       |θ3       |\n",
    "| 4        | -90     | a3      | d4      |θ4       |\n",
    "| 5        | 90      | 0       | 0       |θ5       |\n",
    "| 6        | -90     | 0       | 0       |θ6       |\n",
    "| G        | 0       | 0       | dG      |0        |"
   ]
  },
  {
   "cell_type": "markdown",
   "metadata": {},
   "source": [
    "#### Transformation matrix for Kuka arm\n"
   ]
  },
  {
   "cell_type": "code",
   "execution_count": 3,
   "metadata": {
    "collapsed": true
   },
   "outputs": [],
   "source": [
    "def rot_x(q):\n",
    "    R_x = Matrix([[ 1,              0,        0],\n",
    "              [ 0,        cos(q), -sin(q)],\n",
    "              [ 0,        sin(q),  cos(q)]])\n",
    "    \n",
    "    return R_x\n",
    "    \n",
    "def rot_y(q):              \n",
    "    R_y = Matrix([[ cos(q),        0,  sin(q)],\n",
    "              [       0,        1,        0],\n",
    "              [-sin(q),        0,  cos(q)]])\n",
    "    \n",
    "    return R_y\n",
    "\n",
    "def rot_z(q):    \n",
    "    R_z = Matrix([[ cos(q), -sin(q),        0],\n",
    "              [ sin(q),  cos(q),        0],\n",
    "              [ 0,              0,        1]])\n",
    "    \n",
    "    return R_z"
   ]
  },
  {
   "cell_type": "code",
   "execution_count": 4,
   "metadata": {
    "collapsed": true
   },
   "outputs": [],
   "source": [
    "# q = theta\n",
    "def transformation_matrix(alpha,a,d,q):    \n",
    "    return Matrix([[        cos(q),        -sin(q),       0,           a],\n",
    "                   [ sin(q)*cos(alpha),  cos(q)*cos(alpha),  -sin(alpha),  -sin(alpha)*d],\n",
    "                   [ sin(q)*sin(alpha),  cos(q)*sin(alpha),   cos(alpha),   cos(alpha)*d],\n",
    "                   [             0,              0,        0,        1]])"
   ]
  },
  {
   "cell_type": "markdown",
   "metadata": {},
   "source": [
    "\n",
    "This gets the transform matrices without any replacement of d and a\n"
   ]
  },
  {
   "cell_type": "code",
   "execution_count": 5,
   "metadata": {},
   "outputs": [
    {
     "name": "stdout",
     "output_type": "stream",
     "text": [
      "('T1_0 = \\n', Matrix([\n",
      "[cos(q1), -sin(q1), 0,  0],\n",
      "[sin(q1),  cos(q1), 0,  0],\n",
      "[      0,        0, 1, d1],\n",
      "[      0,        0, 0,  1]]))\n",
      "\n",
      "('T2_1 = ', Matrix([\n",
      "[sin(q2),  cos(q2), 0, a1],\n",
      "[      0,        0, 1,  0],\n",
      "[cos(q2), -sin(q2), 0,  0],\n",
      "[      0,        0, 0,  1]]))\n",
      "\n",
      "('T3_2 = ', Matrix([\n",
      "[cos(q3), -sin(q3), 0, a2],\n",
      "[sin(q3),  cos(q3), 0,  0],\n",
      "[      0,        0, 1,  0],\n",
      "[      0,        0, 0,  1]]))\n",
      "\n",
      "('T4_3 = ', Matrix([\n",
      "[ cos(q4), -sin(q4), 0, a3],\n",
      "[       0,        0, 1, d4],\n",
      "[-sin(q4), -cos(q4), 0,  0],\n",
      "[       0,        0, 0,  1]]))\n",
      "\n",
      "('T5_4 = ', Matrix([\n",
      "[cos(q5), -sin(q5),  0, 0],\n",
      "[      0,        0, -1, 0],\n",
      "[sin(q5),  cos(q5),  0, 0],\n",
      "[      0,        0,  0, 1]]))\n",
      "\n",
      "('T6_5 = ', Matrix([\n",
      "[ cos(q6), -sin(q6), 0, 0],\n",
      "[       0,        0, 1, 0],\n",
      "[-sin(q6), -cos(q6), 0, 0],\n",
      "[       0,        0, 0, 1]]))\n",
      "\n",
      "('TG_6 = ', Matrix([\n",
      "[0,  0, 1,  0],\n",
      "[0, -1, 0,  0],\n",
      "[1,  0, 0, d7],\n",
      "[0,  0, 0,  1]]))\n"
     ]
    }
   ],
   "source": [
    "q1, q2, q3, q4, q5, q6 = symbols('q1:7') #theta\n",
    "a0, a1, a2, a3, a4, a5 = symbols('a0:6')\n",
    "d1, d2, d3, d4, d5, d6, dG = symbols('d1:8')\n",
    "alpha0, alpha1, alpha2, alpha3, alpha4, alpha5 = symbols('alpha0:6')\n",
    "\n",
    "T1_0 = transformation_matrix(0, 0, d1, q1)\n",
    "T2_1 = transformation_matrix(-pi/2, a1, 0, q2-pi/2)\n",
    "T3_2 = transformation_matrix(0, a2, 0, q3)\n",
    "T4_3 = transformation_matrix(-pi/2, a3, d4, q4)\n",
    "T5_4 = transformation_matrix(pi/2, 0, 0, q5)\n",
    "T6_5 = transformation_matrix(-pi/2, 0, 0, q6)\n",
    "\n",
    "rG_6 = rot_z(pi) * rot_y(-pi/2)\n",
    "tG_6 = Matrix([[0],[0],[dG]])\n",
    "TG_6 = rG_6.row_join(tG_6)\n",
    "TG_6 = TG_6.col_join(Matrix([[0,0,0,1]]))\n",
    "\n",
    "print(\"T1_0 = \\n\", simplify(T1_0))\n",
    "print(\"\")\n",
    "print(\"T2_1 = \", simplify(T2_1))\n",
    "print(\"\")\n",
    "print(\"T3_2 = \", simplify(T3_2))\n",
    "print(\"\")\n",
    "print(\"T4_3 = \", simplify(T4_3))\n",
    "print(\"\")\n",
    "print(\"T5_4 = \", simplify(T5_4))\n",
    "print(\"\")\n",
    "print(\"T6_5 = \", simplify(T6_5))\n",
    "print(\"\")\n",
    "print(\"TG_6 = \", simplify(TG_6))"
   ]
  },
  {
   "cell_type": "markdown",
   "metadata": {},
   "source": [
    "Getting the homogeneous transform matrix from base_link to gripper_link"
   ]
  },
  {
   "cell_type": "code",
   "execution_count": 6,
   "metadata": {},
   "outputs": [],
   "source": [
    "T2_0 = simplify(T1_0*T2_1) #base_link to link_2"
   ]
  },
  {
   "cell_type": "code",
   "execution_count": 7,
   "metadata": {
    "collapsed": true
   },
   "outputs": [],
   "source": [
    "T3_0 = simplify(T2_0*T3_2) #link_2 to link_3"
   ]
  },
  {
   "cell_type": "code",
   "execution_count": 8,
   "metadata": {
    "collapsed": true
   },
   "outputs": [],
   "source": [
    "T4_0 = simplify(T3_0*T4_3) #link_3 to link_4"
   ]
  },
  {
   "cell_type": "code",
   "execution_count": 9,
   "metadata": {
    "collapsed": true
   },
   "outputs": [],
   "source": [
    "T5_0 = simplify(T4_0*T5_4) #link_4 to link_5"
   ]
  },
  {
   "cell_type": "code",
   "execution_count": 10,
   "metadata": {
    "collapsed": true
   },
   "outputs": [],
   "source": [
    "T6_0 = simplify(T5_0*T6_5) #link_5 to link_6"
   ]
  },
  {
   "cell_type": "code",
   "execution_count": 11,
   "metadata": {},
   "outputs": [
    {
     "name": "stdout",
     "output_type": "stream",
     "text": [
      "('TG_0 = ', Matrix([\n",
      "[-(sin(q1)*sin(q4) + sin(q2 + q3)*cos(q1)*cos(q4))*sin(q5) + cos(q1)*cos(q5)*cos(q2 + q3), ((sin(q1)*sin(q4) + sin(q2 + q3)*cos(q1)*cos(q4))*cos(q5) + sin(q5)*cos(q1)*cos(q2 + q3))*sin(q6) - (sin(q1)*cos(q4) - sin(q4)*sin(q2 + q3)*cos(q1))*cos(q6), ((sin(q1)*sin(q4) + sin(q2 + q3)*cos(q1)*cos(q4))*cos(q5) + sin(q5)*cos(q1)*cos(q2 + q3))*cos(q6) + (sin(q1)*cos(q4) - sin(q4)*sin(q2 + q3)*cos(q1))*sin(q6), -d7*((sin(q1)*sin(q4) + sin(q2 + q3)*cos(q1)*cos(q4))*sin(q5) - cos(q1)*cos(q5)*cos(q2 + q3)) + (a1 + a2*sin(q2) + a3*sin(q2 + q3) + d4*cos(q2 + q3))*cos(q1)],\n",
      "[-(sin(q1)*sin(q2 + q3)*cos(q4) - sin(q4)*cos(q1))*sin(q5) + sin(q1)*cos(q5)*cos(q2 + q3), ((sin(q1)*sin(q2 + q3)*cos(q4) - sin(q4)*cos(q1))*cos(q5) + sin(q1)*sin(q5)*cos(q2 + q3))*sin(q6) + (sin(q1)*sin(q4)*sin(q2 + q3) + cos(q1)*cos(q4))*cos(q6), ((sin(q1)*sin(q2 + q3)*cos(q4) - sin(q4)*cos(q1))*cos(q5) + sin(q1)*sin(q5)*cos(q2 + q3))*cos(q6) - (sin(q1)*sin(q4)*sin(q2 + q3) + cos(q1)*cos(q4))*sin(q6), -d7*((sin(q1)*sin(q2 + q3)*cos(q4) - sin(q4)*cos(q1))*sin(q5) - sin(q1)*cos(q5)*cos(q2 + q3)) + (a1 + a2*sin(q2) + a3*sin(q2 + q3) + d4*cos(q2 + q3))*sin(q1)],\n",
      "[                                    -sin(q5)*cos(q4)*cos(q2 + q3) - sin(q2 + q3)*cos(q5),                                                                -(sin(q5)*sin(q2 + q3) - cos(q4)*cos(q5)*cos(q2 + q3))*sin(q6) + sin(q4)*cos(q6)*cos(q2 + q3),                                                                -(sin(q5)*sin(q2 + q3) - cos(q4)*cos(q5)*cos(q2 + q3))*cos(q6) - sin(q4)*sin(q6)*cos(q2 + q3),                                                a2*cos(q2) + a3*cos(q2 + q3) + d1 - d4*sin(q2 + q3) - d7*(sin(q5)*cos(q4)*cos(q2 + q3) + sin(q2 + q3)*cos(q5))],\n",
      "[                                                                                       0,                                                                                                                                                            0,                                                                                                                                                            0,                                                                                                                                                             1]]), '\\n')\n"
     ]
    }
   ],
   "source": [
    "TG_0 = simplify(T6_0*TG_6) #link_6 to link_G\n",
    "print(\"TG_0 = \", simplify(TG_0),\"\\n\")"
   ]
  },
  {
   "cell_type": "markdown",
   "metadata": {},
   "source": [
    "Replacing it with d and a from Kuka arm 210 xacro"
   ]
  },
  {
   "cell_type": "code",
   "execution_count": 15,
   "metadata": {},
   "outputs": [
    {
     "name": "stdout",
     "output_type": "stream",
     "text": [
      "Matrix([\n",
      "[1.0,   0,   0, 2.153],\n",
      "[  0, 1.0,   0,     0],\n",
      "[  0,   0, 1.0, 1.946],\n",
      "[  0,   0,   0,   1.0]])\n",
      "Matrix([\n",
      "[  0,    0, 1.0,  1.85],\n",
      "[  0, -1.0,   0,     0],\n",
      "[1.0,    0,   0, 1.946],\n",
      "[  0,    0,   0,   1.0]])\n",
      "Matrix([\n",
      "[  0, 1.0,   0,  1.85],\n",
      "[  0,   0, 1.0,     0],\n",
      "[1.0,   0,   0, 1.946],\n",
      "[  0,   0,   0,   1.0]])\n",
      "Matrix([\n",
      "[  0,    0, 1.0,  1.85],\n",
      "[  0, -1.0,   0,     0],\n",
      "[1.0,    0,   0, 1.946],\n",
      "[  0,    0,   0,   1.0]])\n",
      "Matrix([\n",
      "[  0, 1.0,   0, 0.35],\n",
      "[  0,   0, 1.0,    0],\n",
      "[1.0,   0,   0,  2.0],\n",
      "[  0,   0,   0,  1.0]])\n"
     ]
    }
   ],
   "source": [
    "# DH Parameters\n",
    "# Get original position to test the results\n",
    "s = {alpha0:     0,  a0:      0, d1: 0.75, q1: 0,\n",
    "     alpha1: -pi/2,  a1:   0.35, d2:    0, q2: 0,\n",
    "     alpha2:     0,  a2:   1.25, d3:    0, q3:0,\n",
    "     alpha3: -pi/2,  a3: -0.054, d4:  1.5, q4:0,\n",
    "     alpha4:  pi/2,  a4:      0, d5:    0, q5: 0,\n",
    "     alpha5: -pi/2,  a5:      0, d6:    0, q6:0,\n",
    "     dG: 0.303 }\n",
    "\n",
    "E_G = TG_0.evalf(subs=s, chop = True)\n",
    "print(simplify(E_G))\n",
    "E_6 = T6_0.evalf(subs=s, chop = True)\n",
    "print(simplify(E_6))\n",
    "E_5 = T5_0.evalf(subs=s, chop = True)\n",
    "print(simplify(E_5))\n",
    "E_4 = T4_0.evalf(subs=s, chop = True)\n",
    "print(simplify(E_4))\n",
    "E_3 = T3_0.evalf(subs=s, chop = True)\n",
    "print(simplify(E_3))"
   ]
  },
  {
   "cell_type": "code",
   "execution_count": null,
   "metadata": {
    "collapsed": true
   },
   "outputs": [],
   "source": []
  },
  {
   "cell_type": "markdown",
   "metadata": {},
   "source": [
    "### Inverse Kinematics\n",
    "This is to get the forward kinematics"
   ]
  },
  {
   "cell_type": "code",
   "execution_count": null,
   "metadata": {
    "collapsed": true
   },
   "outputs": [],
   "source": []
  }
 ],
 "metadata": {
  "kernelspec": {
   "display_name": "Python 2",
   "language": "python",
   "name": "python2"
  },
  "language_info": {
   "codemirror_mode": {
    "name": "ipython",
    "version": 2
   },
   "file_extension": ".py",
   "mimetype": "text/x-python",
   "name": "python",
   "nbconvert_exporter": "python",
   "pygments_lexer": "ipython2",
   "version": "2.7.12"
  },
  "widgets": {
   "state": {},
   "version": "1.1.2"
  }
 },
 "nbformat": 4,
 "nbformat_minor": 2
}
