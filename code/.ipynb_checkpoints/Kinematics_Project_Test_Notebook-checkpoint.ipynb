{
 "cells": [
  {
   "cell_type": "markdown",
   "metadata": {},
   "source": [
    "## Kinematics Project Test notebook"
   ]
  },
  {
   "cell_type": "code",
   "execution_count": 10,
   "metadata": {
    "collapsed": true
   },
   "outputs": [],
   "source": [
    "from sympy import symbols, cos, sin, pi, sqrt, simplify, atan2,acos\n",
    "from sympy.matrices import Matrix\n",
    "import numpy as np"
   ]
  },
  {
   "cell_type": "markdown",
   "metadata": {},
   "source": [
    "### Forward Kinematics\n",
    "This is to get the forward kinematics, the convention is marked in the image below\n",
    "\n",
    "\n",
    "![alt text](DH.png \"DH annotation\")\n"
   ]
  },
  {
   "cell_type": "markdown",
   "metadata": {},
   "source": [
    "#### DH Parameters for Kuka arm\n",
    "Following the DH Convention\n",
    "\n",
    "| i        | a(i-1)  | a(i-1)  | d(i-1)  | θ(i-1)  |\n",
    "| :------- |:-------:|:-------:|:-------:|:-------:|\n",
    "| 1        | 0       | 0       | d1      |θ1       |\n",
    "| 2        | -90     | a1      | 0       |θ2 - 90  |\n",
    "| 3        | 0       | a2      | 0       |θ3       |\n",
    "| 4        | -90     | a3      | d4      |θ4       |\n",
    "| 5        | 90      | 0       | 0       |θ5       |\n",
    "| 6        | -90     | 0       | 0       |θ6       |\n",
    "| G        | 0       | 0       | dG      |0        |"
   ]
  },
  {
   "cell_type": "markdown",
   "metadata": {},
   "source": [
    "#### Transformation matrix for Kuka arm\n"
   ]
  },
  {
   "cell_type": "code",
   "execution_count": 11,
   "metadata": {
    "collapsed": true
   },
   "outputs": [],
   "source": [
    "def rot_x(q):\n",
    "    R_x = Matrix([[ 1,              0,        0],\n",
    "              [ 0,        cos(q), -sin(q)],\n",
    "              [ 0,        sin(q),  cos(q)]])\n",
    "    \n",
    "    return R_x\n",
    "    \n",
    "def rot_y(q):              \n",
    "    R_y = Matrix([[ cos(q),        0,  sin(q)],\n",
    "              [       0,        1,        0],\n",
    "              [-sin(q),        0,  cos(q)]])\n",
    "    \n",
    "    return R_y\n",
    "\n",
    "def rot_z(q):    \n",
    "    R_z = Matrix([[ cos(q), -sin(q),        0],\n",
    "              [ sin(q),  cos(q),        0],\n",
    "              [ 0,              0,        1]])\n",
    "    \n",
    "    return R_z"
   ]
  },
  {
   "cell_type": "code",
   "execution_count": 12,
   "metadata": {
    "collapsed": true
   },
   "outputs": [],
   "source": [
    "# q = theta\n",
    "def transformation_matrix(alpha,a,d,q):    \n",
    "    return Matrix([[        cos(q),        -sin(q),       0,           a],\n",
    "                   [ sin(q)*cos(alpha),  cos(q)*cos(alpha),  -sin(alpha),  -sin(alpha)*d],\n",
    "                   [ sin(q)*sin(alpha),  cos(q)*sin(alpha),   cos(alpha),   cos(alpha)*d],\n",
    "                   [             0,              0,        0,        1]])"
   ]
  },
  {
   "cell_type": "markdown",
   "metadata": {},
   "source": [
    "\n",
    "This gets the transform matrices without any replacement of d and a\n"
   ]
  },
  {
   "cell_type": "code",
   "execution_count": 44,
   "metadata": {},
   "outputs": [
    {
     "name": "stdout",
     "output_type": "stream",
     "text": [
      "('T1_0 = \\n', Matrix([\n",
      "[cos(q1), -sin(q1), 0,  0],\n",
      "[sin(q1),  cos(q1), 0,  0],\n",
      "[      0,        0, 1, d1],\n",
      "[      0,        0, 0,  1]]))\n",
      "\n",
      "('T2_1 = ', Matrix([\n",
      "[sin(q2),  cos(q2), 0, a1],\n",
      "[      0,        0, 1,  0],\n",
      "[cos(q2), -sin(q2), 0,  0],\n",
      "[      0,        0, 0,  1]]))\n",
      "\n",
      "('T3_2 = ', Matrix([\n",
      "[cos(q3), -sin(q3), 0, a2],\n",
      "[sin(q3),  cos(q3), 0,  0],\n",
      "[      0,        0, 1,  0],\n",
      "[      0,        0, 0,  1]]))\n",
      "\n",
      "('T4_3 = ', Matrix([\n",
      "[ cos(q4), -sin(q4), 0, a3],\n",
      "[       0,        0, 1, d4],\n",
      "[-sin(q4), -cos(q4), 0,  0],\n",
      "[       0,        0, 0,  1]]))\n",
      "\n",
      "('T5_4 = ', Matrix([\n",
      "[cos(q5), -sin(q5),  0, 0],\n",
      "[      0,        0, -1, 0],\n",
      "[sin(q5),  cos(q5),  0, 0],\n",
      "[      0,        0,  0, 1]]))\n",
      "\n",
      "('T6_5 = ', Matrix([\n",
      "[ cos(q6), -sin(q6), 0, 0],\n",
      "[       0,        0, 1, 0],\n",
      "[-sin(q6), -cos(q6), 0, 0],\n",
      "[       0,        0, 0, 1]]))\n",
      "\n",
      "('TG_6 = ', Matrix([\n",
      "[0,  0, 1,  0],\n",
      "[0, -1, 0,  0],\n",
      "[1,  0, 0, d7],\n",
      "[0,  0, 0,  1]]))\n"
     ]
    }
   ],
   "source": [
    "q1, q2, q3, q4, q5, q6 = symbols('q1:7') #theta\n",
    "a0, a1, a2, a3, a4, a5 = symbols('a0:6')\n",
    "d1, d2, d3, d4, d5, d6, dG = symbols('d1:8')\n",
    "alpha0, alpha1, alpha2, alpha3, alpha4, alpha5 = symbols('alpha0:6')\n",
    "\n",
    "T1_0 = transformation_matrix(0, 0, d1, q1)\n",
    "T2_1 = transformation_matrix(-pi/2, a1, 0, q2 - pi/2) #remember to offset q2 = -pi/2\n",
    "T3_2 = transformation_matrix(0, a2, 0, q3)\n",
    "T4_3 = transformation_matrix(-pi/2, a3, d4, q4)\n",
    "T5_4 = transformation_matrix(pi/2, 0, 0, q5)\n",
    "T6_5 = transformation_matrix(-pi/2, 0, 0, q6)\n",
    "\n",
    "rG_6 = rot_z(pi) * rot_y(-pi/2)\n",
    "tG_6 = Matrix([[0],[0],[dG]])\n",
    "TG_6 = rG_6.row_join(tG_6)\n",
    "TG_6 = TG_6.col_join(Matrix([[0,0,0,1]]))\n",
    "\n",
    "print(\"T1_0 = \\n\", simplify(T1_0))\n",
    "print(\"\")\n",
    "print(\"T2_1 = \", simplify(T2_1))\n",
    "print(\"\")\n",
    "print(\"T3_2 = \", simplify(T3_2))\n",
    "print(\"\")\n",
    "print(\"T4_3 = \", simplify(T4_3))\n",
    "print(\"\")\n",
    "print(\"T5_4 = \", simplify(T5_4))\n",
    "print(\"\")\n",
    "print(\"T6_5 = \", simplify(T6_5))\n",
    "print(\"\")\n",
    "print(\"TG_6 = \", simplify(TG_6))"
   ]
  },
  {
   "cell_type": "markdown",
   "metadata": {},
   "source": [
    "Getting the homogeneous transform matrix from base_link to gripper_link"
   ]
  },
  {
   "cell_type": "code",
   "execution_count": 45,
   "metadata": {
    "collapsed": true
   },
   "outputs": [],
   "source": [
    "T2_0 = T1_0*T2_1 #base_link to link_2"
   ]
  },
  {
   "cell_type": "code",
   "execution_count": 46,
   "metadata": {
    "collapsed": true
   },
   "outputs": [],
   "source": [
    "T3_0 = T2_0*T3_2 #link_2 to link_3"
   ]
  },
  {
   "cell_type": "code",
   "execution_count": 47,
   "metadata": {
    "collapsed": true
   },
   "outputs": [],
   "source": [
    "T4_0 = T3_0*T4_3 #link_3 to link_4"
   ]
  },
  {
   "cell_type": "code",
   "execution_count": 48,
   "metadata": {
    "collapsed": true
   },
   "outputs": [],
   "source": [
    "T5_0 = T4_0*T5_4 #link_4 to link_5"
   ]
  },
  {
   "cell_type": "code",
   "execution_count": 49,
   "metadata": {},
   "outputs": [
    {
     "name": "stdout",
     "output_type": "stream",
     "text": [
      "('T6_0 = ', Matrix([\n",
      "[((sin(q1)*sin(q4) + sin(q2 + q3)*cos(q1)*cos(q4))*cos(q5) + sin(q5)*cos(q1)*cos(q2 + q3))*cos(q6) - (-sin(q1)*cos(q4) + sin(q4)*sin(q2 + q3)*cos(q1))*sin(q6), -((sin(q1)*sin(q4) + sin(q2 + q3)*cos(q1)*cos(q4))*cos(q5) + sin(q5)*cos(q1)*cos(q2 + q3))*sin(q6) + (sin(q1)*cos(q4) - sin(q4)*sin(q2 + q3)*cos(q1))*cos(q6), -(sin(q1)*sin(q4) + sin(q2 + q3)*cos(q1)*cos(q4))*sin(q5) + cos(q1)*cos(q5)*cos(q2 + q3), (a1 + a2*sin(q2) + a3*sin(q2 + q3) + d4*cos(q2 + q3))*cos(q1)],\n",
      "[ ((sin(q1)*sin(q2 + q3)*cos(q4) - sin(q4)*cos(q1))*cos(q5) + sin(q1)*sin(q5)*cos(q2 + q3))*cos(q6) - (sin(q1)*sin(q4)*sin(q2 + q3) + cos(q1)*cos(q4))*sin(q6), -((sin(q1)*sin(q2 + q3)*cos(q4) - sin(q4)*cos(q1))*cos(q5) + sin(q1)*sin(q5)*cos(q2 + q3))*sin(q6) - (sin(q1)*sin(q4)*sin(q2 + q3) + cos(q1)*cos(q4))*cos(q6), -(sin(q1)*sin(q2 + q3)*cos(q4) - sin(q4)*cos(q1))*sin(q5) + sin(q1)*cos(q5)*cos(q2 + q3), (a1 + a2*sin(q2) + a3*sin(q2 + q3) + d4*cos(q2 + q3))*sin(q1)],\n",
      "[                                                                -(sin(q5)*sin(q2 + q3) - cos(q4)*cos(q5)*cos(q2 + q3))*cos(q6) - sin(q4)*sin(q6)*cos(q2 + q3),                                                                  (sin(q5)*sin(q2 + q3) - cos(q4)*cos(q5)*cos(q2 + q3))*sin(q6) - sin(q4)*cos(q6)*cos(q2 + q3),                                     -sin(q5)*cos(q4)*cos(q2 + q3) - sin(q2 + q3)*cos(q5),           a2*cos(q2) + a3*cos(q2 + q3) + d1 - d4*sin(q2 + q3)],\n",
      "[                                                                                                                                                            0,                                                                                                                                                             0,                                                                                        0,                                                             1]]), '\\n')\n"
     ]
    }
   ],
   "source": [
    "T6_0 = T5_0*T6_5 #link_5 to link_6\n",
    "print(\"T6_0 = \", simplify(T6_0),\"\\n\")"
   ]
  },
  {
   "cell_type": "code",
   "execution_count": 50,
   "metadata": {},
   "outputs": [
    {
     "name": "stdout",
     "output_type": "stream",
     "text": [
      "('TG_0 = ', Matrix([\n",
      "[-(sin(q1)*sin(q4) + sin(q2 + q3)*cos(q1)*cos(q4))*sin(q5) + cos(q1)*cos(q5)*cos(q2 + q3), ((sin(q1)*sin(q4) + sin(q2 + q3)*cos(q1)*cos(q4))*cos(q5) + sin(q5)*cos(q1)*cos(q2 + q3))*sin(q6) - (sin(q1)*cos(q4) - sin(q4)*sin(q2 + q3)*cos(q1))*cos(q6), ((sin(q1)*sin(q4) + sin(q2 + q3)*cos(q1)*cos(q4))*cos(q5) + sin(q5)*cos(q1)*cos(q2 + q3))*cos(q6) + (sin(q1)*cos(q4) - sin(q4)*sin(q2 + q3)*cos(q1))*sin(q6), a1*cos(q1) + a2*sin(q2)*cos(q1) + a3*sin(q2 + q3)*cos(q1) + d4*cos(q1)*cos(q2 + q3) - d7*((sin(q1)*sin(q4) + sin(q2 + q3)*cos(q1)*cos(q4))*sin(q5) - cos(q1)*cos(q5)*cos(q2 + q3))],\n",
      "[-(sin(q1)*sin(q2 + q3)*cos(q4) - sin(q4)*cos(q1))*sin(q5) + sin(q1)*cos(q5)*cos(q2 + q3), ((sin(q1)*sin(q2 + q3)*cos(q4) - sin(q4)*cos(q1))*cos(q5) + sin(q1)*sin(q5)*cos(q2 + q3))*sin(q6) + (sin(q1)*sin(q4)*sin(q2 + q3) + cos(q1)*cos(q4))*cos(q6), ((sin(q1)*sin(q2 + q3)*cos(q4) - sin(q4)*cos(q1))*cos(q5) + sin(q1)*sin(q5)*cos(q2 + q3))*cos(q6) - (sin(q1)*sin(q4)*sin(q2 + q3) + cos(q1)*cos(q4))*sin(q6), a1*sin(q1) + a2*sin(q1)*sin(q2) + a3*sin(q1)*sin(q2 + q3) + d4*sin(q1)*cos(q2 + q3) - d7*((sin(q1)*sin(q2 + q3)*cos(q4) - sin(q4)*cos(q1))*sin(q5) - sin(q1)*cos(q5)*cos(q2 + q3))],\n",
      "[                                    -sin(q5)*cos(q4)*cos(q2 + q3) - sin(q2 + q3)*cos(q5),                                                                -(sin(q5)*sin(q2 + q3) - cos(q4)*cos(q5)*cos(q2 + q3))*sin(q6) + sin(q4)*cos(q6)*cos(q2 + q3),                                                                -(sin(q5)*sin(q2 + q3) - cos(q4)*cos(q5)*cos(q2 + q3))*cos(q6) - sin(q4)*sin(q6)*cos(q2 + q3),                                                                     a2*cos(q2) + a3*cos(q2 + q3) + d1 - d4*sin(q2 + q3) - d7*(sin(q5)*cos(q4)*cos(q2 + q3) + sin(q2 + q3)*cos(q5))],\n",
      "[                                                                                       0,                                                                                                                                                            0,                                                                                                                                                            0,                                                                                                                                                                                  1]]), '\\n')\n"
     ]
    }
   ],
   "source": [
    "TG_0 = simplify(T6_0*TG_6) #link_6 to link_G\n",
    "print(\"TG_0 = \", simplify(TG_0),\"\\n\")"
   ]
  },
  {
   "cell_type": "markdown",
   "metadata": {},
   "source": [
    "Replacing it with d and a from Kuka arm 210 xacro"
   ]
  },
  {
   "cell_type": "code",
   "execution_count": 51,
   "metadata": {},
   "outputs": [
    {
     "name": "stdout",
     "output_type": "stream",
     "text": [
      "Matrix([\n",
      "[1.0,   0,   0, 2.153],\n",
      "[  0, 1.0,   0,     0],\n",
      "[  0,   0, 1.0, 1.946],\n",
      "[  0,   0,   0,   1.0]])\n",
      "Matrix([\n",
      "[  0,    0, 1.0,  1.85],\n",
      "[  0, -1.0,   0,     0],\n",
      "[1.0,    0,   0, 1.946],\n",
      "[  0,    0,   0,   1.0]])\n",
      "Matrix([\n",
      "[  0, 1.0,   0,  1.85],\n",
      "[  0,   0, 1.0,     0],\n",
      "[1.0,   0,   0, 1.946],\n",
      "[  0,   0,   0,   1.0]])\n",
      "Matrix([\n",
      "[  0,    0, 1.0,  1.85],\n",
      "[  0, -1.0,   0,     0],\n",
      "[1.0,    0,   0, 1.946],\n",
      "[  0,    0,   0,   1.0]])\n",
      "Matrix([\n",
      "[  0, 1.0,   0, 0.35],\n",
      "[  0,   0, 1.0,    0],\n",
      "[1.0,   0,   0,  2.0],\n",
      "[  0,   0,   0,  1.0]])\n"
     ]
    }
   ],
   "source": [
    "# DH Parameters\n",
    "# Get original position to test the results\n",
    "s = {alpha0:     0,  a0:      0, d1: 0.75, q1: 0,\n",
    "     alpha1: -pi/2,  a1:   0.35, d2:    0, q2: 0,\n",
    "     alpha2:     0,  a2:   1.25, d3:    0, q3:0,\n",
    "     alpha3: -pi/2,  a3: -0.054, d4:  1.5, q4:0,\n",
    "     alpha4:  pi/2,  a4:      0, d5:    0, q5: 0,\n",
    "     alpha5: -pi/2,  a5:      0, d6:    0, q6:0,\n",
    "     dG: 0.303 }\n",
    "\n",
    "E_G = TG_0.evalf(subs=s, chop = True)\n",
    "print(simplify(E_G))\n",
    "E_6 = T6_0.evalf(subs=s, chop = True)\n",
    "print(simplify(E_6))\n",
    "\n",
    "E_5 = T5_0.evalf(subs=s, chop = True)\n",
    "print(simplify(E_5))\n",
    "E_4 = T4_0.evalf(subs=s, chop = True)\n",
    "print(simplify(E_4))\n",
    "E_3 = T3_0.evalf(subs=s, chop = True)\n",
    "print(simplify(E_3))"
   ]
  },
  {
   "cell_type": "markdown",
   "metadata": {},
   "source": [
    "### Inverse Kinematics\n",
    "This is to get the forward kinematics"
   ]
  },
  {
   "cell_type": "markdown",
   "metadata": {
    "collapsed": true
   },
   "source": [
    "Solving the first three equations of wrist center.\n",
    "Location of the WC relative to the base frame\n",
    "\n",
    "![alt text](IK_WC.png \"IK: Wrist center\")\n",
    "\n",
    "r13, r23, and r33 define the Z-axis of the EE relative to the base frame, the Cartesian coordinates of the WC is\n",
    "\n",
    "    Wx = Px - (d6 + l)*nx\n",
    "    Wy = Py - (d6 + l)*ny\n",
    "    Wz = Pz - (d6 + l)*nz\n",
    "\n",
    "Where,\n",
    "Px, Py, Pz = end-effector positions\n",
    "Wx, Wy, Wz = wrist positions\n",
    "d6 = from DH table\n",
    "l = end-effector length\n",
    "\n",
    "![alt text](Joint.png \"IK: Joint \")"
   ]
  },
  {
   "cell_type": "markdown",
   "metadata": {},
   "source": [
    "The rotation for the speherical arm is as below, it provides the roll pitch yaw \n",
    "\n",
    "![alt text](rot_spherical.png \"IK: rot_spherical \")\n",
    "\n",
    "For the arm it is translated along the x-axis (according to RViz). thus it would be R * [1 0 0], where we would need r11,r21,r31\n",
    "\n",
    "    Lx = r11 = cos(alpha)*cos(beta)\n",
    "    Ly = r21 = sin(alpha)*cos(beta)\n",
    "    Lz = r31 = -sin(beta)\n",
    "\n",
    "Convention: L = R [1, 0, 0]; M = R [0, 1, 0]; N = R [ 0, 0, 1]"
   ]
  },
  {
   "cell_type": "code",
   "execution_count": 63,
   "metadata": {
    "collapsed": true
   },
   "outputs": [],
   "source": [
    "# this is to test the IK for q2 and q3\n",
    "\n",
    "px, py, pz, nx, ny, nz = symbols(\"px py pz nx ny nz\")\n",
    "\n",
    "l2_l3 = 1.25\n",
    "l3_wc = sqrt(1.5*1.5 + 0.054*0.054)\n",
    "ik_dG = 0.303\n",
    "wx = px - (ik_dG)*nx\n",
    "wy = py - (ik_dG)*ny\n",
    "wz = pz - (ik_dG)*nz\n",
    "\n",
    "xc = (wx - 0.35)\n",
    "zc = (wz - 0.75)\n",
    "theta1 = atan2(wy,wx)\n",
    "\n",
    "r = (xc*xc + zc*zc - l3_wc*l3_wc - l2_l3*l2_l3)/(2*l3_wc*l2_l3)\n",
    "theta3 = atan2(-sqrt(1-r*r), r) # we do not consider the - part\n",
    "theta2 = atan2(zc,xc) - atan2(l3_wc*sin(theta3), l2_l3+l3_wc*cos(theta3))"
   ]
  },
  {
   "cell_type": "code",
   "execution_count": 64,
   "metadata": {
    "scrolled": true
   },
   "outputs": [
    {
     "name": "stdout",
     "output_type": "stream",
     "text": [
      "wx: 1.85000000000000  wy:  0  wz:  1.94600000000000\n",
      "ik_q1: 0  ik_q2:  -0.224570707787044  ik_q3:  1.60678078687695\n"
     ]
    }
   ],
   "source": [
    "# Testing: get IK\n",
    "\n",
    "# ik_1 = {px: 0.8, py: 1.8, pz: 1.5, nx: 1.5, ny: 0.2, nz: -0.8}\n",
    "# ik_1 = {px: 2.089, py: -0.9, pz: 1.58, nx: 0.99, ny: 0.00054, nz:-0.0003225}\n",
    "\n",
    "ik_1 = {px: 2.153, py: 0, pz: 1.946, nx: 1, ny: 0, nz:0}\n",
    "\n",
    "ik_wx = wx.evalf(subs=ik_1, chop = True)\n",
    "ik_wy = wy.evalf(subs=ik_1, chop = True)\n",
    "ik_wz = wz.evalf(subs=ik_1, chop = True)\n",
    "\n",
    "print \"wx:\", ik_wx, \" wy: \", ik_wy, \" wz: \", ik_wz\n",
    "\n",
    "ik_q1 = theta1.evalf(subs=ik_1, chop = True)\n",
    "ik_q3 = theta3.evalf(subs=ik_1, chop = True)\n",
    "ik_q2 = theta2.evalf(subs=ik_1, chop = True)\n",
    "\n",
    "print \"ik_q1:\", ik_q1, \" ik_q2: \", ik_q2, \" ik_q3: \", ik_q3"
   ]
  },
  {
   "cell_type": "code",
   "execution_count": 65,
   "metadata": {
    "scrolled": true
   },
   "outputs": [
    {
     "name": "stdout",
     "output_type": "stream",
     "text": [
      "mod_d4:  1.5  mod_a3:  -0.054\n",
      "Matrix([\n",
      "[-0.187470395962179, 0.982270253360949,   0,  1.5551689438398],\n",
      "[                 0,                 0, 1.0,                0],\n",
      "[ 0.982270253360949, 0.187470395962179,   0, 2.19677524409508],\n",
      "[                 0,                 0,   0,              1.0]])\n"
     ]
    }
   ],
   "source": [
    "# Testing: FK with received IK\n",
    "\n",
    "l3 = sqrt(0.96*0.96 + 0.054*0.054)\n",
    "mod_a3 = -0.054 # revisit: l3*sin(ik_q3)\n",
    "mod_d4 = 1.5 # revisit:  0.54 + l3*cos(ik_q3)\n",
    "print \"mod_d4: \", mod_d4, \" mod_a3: \", mod_a3\n",
    "s = {alpha0:     0,  a0:      0, d1: 0.75, q1: ik_q1,\n",
    "     alpha1: -pi/2,  a1:   0.35, d2:    0, q2: ik_q2,\n",
    "     alpha2:     0,  a2:   1.25, d3:    0, q3: (ik_q3 - pi/2), # offset by -pi/2\n",
    "     alpha3: -pi/2,  a3: mod_a3, d4:  mod_d4, q4:0,\n",
    "     alpha4:  pi/2,  a4:      0, d5:    0, q5: 0,\n",
    "     alpha5: -pi/2,  a5:      0, d6:    0, q6:0,\n",
    "     dG: 0.303 }\n",
    "\n",
    "# taking position 4 and 5 are the same, which should be the Wc\n",
    "E_5 = T5_0.evalf(subs=s, chop = True)\n",
    "print(simplify(E_5))"
   ]
  },
  {
   "cell_type": "code",
   "execution_count": 62,
   "metadata": {},
   "outputs": [
    {
     "name": "stdout",
     "output_type": "stream",
     "text": [
      "wx: 1.78903000000000  wy:  -0.900163620000000  wz:  1.58009771750000\n",
      "ik_q1: -0.466170309293007  ik_q2:  1.57240520190817  ik_q3:  -1.85594156612242\n",
      "mod_d4:  1.5  mod_a3:  -0.054\n",
      "Matrix([\n",
      "[-0.857628753291001, -0.24990188365676, 0.449468541806127,   1.10073153842715],\n",
      "[ 0.431522223315715, 0.125739973190661, 0.893296160255194, -0.553841180013055],\n",
      "[-0.279752555507872, 0.960072136709953,                 0,   2.20320375003837],\n",
      "[                 0,                 0,                 0,                1.0]])\n"
     ]
    }
   ],
   "source": [
    "# Testing: get IK\n",
    "\n",
    "# ik_1 = {px: 0.8, py: 1.8, pz: 1.5, nx: 1.5, ny: 0.2, nz: -0.8}\n",
    "ik_1 = {px: 2.089, py: -0.9, pz: 1.58, nx: 0.99, ny: 0.00054, nz:-0.0003225}\n",
    "\n",
    "\n",
    "ik_wx = wx.evalf(subs=ik_1, chop = True)\n",
    "ik_wy = wy.evalf(subs=ik_1, chop = True)\n",
    "ik_wz = wz.evalf(subs=ik_1, chop = True)\n",
    "\n",
    "print \"wx:\", ik_wx, \" wy: \", ik_wy, \" wz: \", ik_wz\n",
    "\n",
    "ik_q1 = theta1.evalf(subs=ik_1, chop = True)\n",
    "ik_q3 = theta3.evalf(subs=ik_1, chop = True)\n",
    "ik_q2 = theta2.evalf(subs=ik_1, chop = True)\n",
    "\n",
    "print \"ik_q1:\", ik_q1, \" ik_q2: \", ik_q2, \" ik_q3: \", ik_q3\n",
    "\n",
    "# Testing: FK with received IK\n",
    "\n",
    "l3 = sqrt(0.96*0.96 + 0.054*0.054)\n",
    "mod_a3 = -0.054 # revisit: l3*sin(ik_q3)\n",
    "mod_d4 = 1.5 # revisit:  0.54 + l3*cos(ik_q3)\n",
    "print \"mod_d4: \", mod_d4, \" mod_a3: \", mod_a3\n",
    "s = {alpha0:     0,  a0:      0, d1: 0.75, q1: ik_q1,\n",
    "     alpha1: -pi/2,  a1:   0.35, d2:    0, q2: ik_q2,\n",
    "     alpha2:     0,  a2:   1.25, d3:    0, q3: (ik_q3 - pi/2), # offset by -pi/2\n",
    "     alpha3: -pi/2,  a3: mod_a3, d4:  mod_d4, q4:0,\n",
    "     alpha4:  pi/2,  a4:      0, d5:    0, q5: 0,\n",
    "     alpha5: -pi/2,  a5:      0, d6:    0, q6:0,\n",
    "     dG: 0.303 }\n",
    "\n",
    "# taking position 4 and 5 are the same, which should be the Wc\n",
    "E_5 = T5_0.evalf(subs=s, chop = True)\n",
    "print(simplify(E_5))"
   ]
  },
  {
   "cell_type": "code",
   "execution_count": 58,
   "metadata": {},
   "outputs": [
    {
     "name": "stdout",
     "output_type": "stream",
     "text": [
      "wx: 0.345500000000000  wy:  1.73940000000000  wz:  1.74240000000000\n",
      "ik_q1: 1.37471677392652  ik_q2:  0.123500455358988  ik_q3:  2.42541631153827\n",
      "mod_d4:  1.5  mod_a3:  -0.054\n",
      "Matrix([\n",
      "[0.161597817973356, 0.108826129184069, -0.980837916698301, 0.252701743976832],\n",
      "[0.813554977084966, 0.547878926491376,  0.194825514671302,  1.27221248472736],\n",
      "[0.558582531490674, -0.82944894689997,                  0, 0.716142506628324],\n",
      "[                0,                 0,                  0,               1.0]])\n"
     ]
    }
   ],
   "source": [
    "# Testing: get IK\n",
    "\n",
    "ik_1 = {px: 0.8, py: 1.8, pz: 1.5, nx: 1.5, ny: 0.2, nz: -0.8}\n",
    "\n",
    "ik_wx = wx.evalf(subs=ik_1, chop = True)\n",
    "ik_wy = wy.evalf(subs=ik_1, chop = True)\n",
    "ik_wz = wz.evalf(subs=ik_1, chop = True)\n",
    "\n",
    "print \"wx:\", ik_wx, \" wy: \", ik_wy, \" wz: \", ik_wz\n",
    "\n",
    "ik_q1 = theta1.evalf(subs=ik_1, chop = True)\n",
    "ik_q3 = theta3.evalf(subs=ik_1, chop = True)\n",
    "ik_q2 = theta2.evalf(subs=ik_1, chop = True)\n",
    "\n",
    "print \"ik_q1:\", ik_q1, \" ik_q2: \", ik_q2, \" ik_q3: \", ik_q3\n",
    "\n",
    "# Testing: FK with received IK\n",
    "\n",
    "l3 = sqrt(0.96*0.96 + 0.054*0.054)\n",
    "mod_a3 = -0.054 # revisit: l3*sin(ik_q3)\n",
    "mod_d4 = 1.5 # revisit:  0.54 + l3*cos(ik_q3)\n",
    "print \"mod_d4: \", mod_d4, \" mod_a3: \", mod_a3\n",
    "s = {alpha0:     0,  a0:      0, d1: 0.75, q1: ik_q1,\n",
    "     alpha1: -pi/2,  a1:   0.35, d2:    0, q2: ik_q2,\n",
    "     alpha2:     0,  a2:   1.25, d3:    0, q3: (ik_q3 - pi/2), # offset by -pi/2\n",
    "     alpha3: -pi/2,  a3: mod_a3, d4:  mod_d4, q4:0,\n",
    "     alpha4:  pi/2,  a4:      0, d5:    0, q5: 0,\n",
    "     alpha5: -pi/2,  a5:      0, d6:    0, q6:0,\n",
    "     dG: 0.303 }\n",
    "\n",
    "# taking position 4 and 5 are the same, which should be the Wc\n",
    "E_5 = T5_0.evalf(subs=s, chop = True)\n",
    "print(simplify(E_5))"
   ]
  },
  {
   "cell_type": "code",
   "execution_count": null,
   "metadata": {},
   "outputs": [],
   "source": [
    "# To obtain nx, ny, nz\n",
    "R6_0 =T6_0[0:3,2]\n",
    "print(simplify(R6_0))"
   ]
  },
  {
   "cell_type": "code",
   "execution_count": null,
   "metadata": {},
   "outputs": [],
   "source": [
    "R3_0 =T3_0[0:3, 0:3]\n",
    "print(simplify(R3_0))"
   ]
  },
  {
   "cell_type": "code",
   "execution_count": null,
   "metadata": {},
   "outputs": [],
   "source": [
    "Rrpy = R6_0\n",
    "R6_3 = R3_0.inv() * Rrpy\n",
    "print(simplify(R6_3))"
   ]
  },
  {
   "cell_type": "code",
   "execution_count": null,
   "metadata": {
    "collapsed": true
   },
   "outputs": [],
   "source": []
  }
 ],
 "metadata": {
  "kernelspec": {
   "display_name": "Python 2",
   "language": "python",
   "name": "python2"
  },
  "language_info": {
   "codemirror_mode": {
    "name": "ipython",
    "version": 2
   },
   "file_extension": ".py",
   "mimetype": "text/x-python",
   "name": "python",
   "nbconvert_exporter": "python",
   "pygments_lexer": "ipython2",
   "version": "2.7.13"
  },
  "widgets": {
   "state": {},
   "version": "1.1.2"
  }
 },
 "nbformat": 4,
 "nbformat_minor": 2
}
