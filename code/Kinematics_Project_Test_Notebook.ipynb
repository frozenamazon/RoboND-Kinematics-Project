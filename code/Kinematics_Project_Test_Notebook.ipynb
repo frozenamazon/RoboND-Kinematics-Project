{
 "cells": [
  {
   "cell_type": "markdown",
   "metadata": {},
   "source": [
    "## Kinematics Project Test notebook"
   ]
  },
  {
   "cell_type": "code",
   "execution_count": 115,
   "metadata": {
    "collapsed": true
   },
   "outputs": [],
   "source": [
    "from sympy import symbols, cos, sin, pi, sqrt, simplify, atan2, acos, asin\n",
    "from sympy.matrices import Matrix\n",
    "import numpy as np\n",
    "import math"
   ]
  },
  {
   "cell_type": "markdown",
   "metadata": {},
   "source": [
    "### Forward Kinematics\n",
    "This is to get the forward kinematics, the convention is marked in the image below\n",
    "\n",
    "\n",
    "![alt text](DH.png \"DH annotation\")\n"
   ]
  },
  {
   "cell_type": "markdown",
   "metadata": {},
   "source": [
    "#### DH Parameters for Kuka arm\n",
    "Following the DH Convention\n",
    "\n",
    "| i        | a(i-1)  | a(i-1)  | d(i-1)  | θ(i-1)  |\n",
    "| :------- |:-------:|:-------:|:-------:|:-------:|\n",
    "| 1        | 0       | 0       | d1      |θ1       |\n",
    "| 2        | -90     | a1      | 0       |θ2 - 90  |\n",
    "| 3        | 0       | a2      | 0       |θ3       |\n",
    "| 4        | -90     | a3      | d4      |θ4       |\n",
    "| 5        | 90      | 0       | 0       |θ5       |\n",
    "| 6        | -90     | 0       | 0       |θ6       |\n",
    "| G        | 0       | 0       | dG      |0        |"
   ]
  },
  {
   "cell_type": "markdown",
   "metadata": {},
   "source": [
    "#### Transformation matrix for Kuka arm\n"
   ]
  },
  {
   "cell_type": "code",
   "execution_count": 29,
   "metadata": {
    "collapsed": true
   },
   "outputs": [],
   "source": [
    "def rot_x(q):\n",
    "    R_x = Matrix([[ 1,              0,        0],\n",
    "              [ 0,        cos(q), -sin(q)],\n",
    "              [ 0,        sin(q),  cos(q)]])\n",
    "    \n",
    "    return R_x\n",
    "    \n",
    "def rot_y(q):              \n",
    "    R_y = Matrix([[ cos(q),        0,  sin(q)],\n",
    "              [       0,        1,        0],\n",
    "              [-sin(q),        0,  cos(q)]])\n",
    "    \n",
    "    return R_y\n",
    "\n",
    "def rot_z(q):    \n",
    "    R_z = Matrix([[ cos(q), -sin(q),        0],\n",
    "              [ sin(q),  cos(q),        0],\n",
    "              [ 0,              0,        1]])\n",
    "    \n",
    "    return R_z"
   ]
  },
  {
   "cell_type": "code",
   "execution_count": 30,
   "metadata": {
    "collapsed": true
   },
   "outputs": [],
   "source": [
    "# q = theta\n",
    "def transformation_matrix(alpha,a,d,q):    \n",
    "    return Matrix([[        cos(q),        -sin(q),       0,           a],\n",
    "                   [ sin(q)*cos(alpha),  cos(q)*cos(alpha),  -sin(alpha),  -sin(alpha)*d],\n",
    "                   [ sin(q)*sin(alpha),  cos(q)*sin(alpha),   cos(alpha),   cos(alpha)*d],\n",
    "                   [             0,              0,        0,        1]])"
   ]
  },
  {
   "cell_type": "markdown",
   "metadata": {},
   "source": [
    "\n",
    "This gets the transform matrices without any replacement of d and a\n"
   ]
  },
  {
   "cell_type": "code",
   "execution_count": 140,
   "metadata": {},
   "outputs": [
    {
     "name": "stdout",
     "output_type": "stream",
     "text": [
      "T0_1 = \n",
      " Matrix([\n",
      "[cos(q1), -sin(q1), 0,  0],\n",
      "[sin(q1),  cos(q1), 0,  0],\n",
      "[      0,        0, 1, d1],\n",
      "[      0,        0, 0,  1]])\n",
      "\n",
      "T1_2 =  Matrix([\n",
      "[sin(q2),  cos(q2), 0, a1],\n",
      "[      0,        0, 1,  0],\n",
      "[cos(q2), -sin(q2), 0,  0],\n",
      "[      0,        0, 0,  1]])\n",
      "\n",
      "T2_3 =  Matrix([\n",
      "[cos(q3), -sin(q3), 0, a2],\n",
      "[sin(q3),  cos(q3), 0,  0],\n",
      "[      0,        0, 1,  0],\n",
      "[      0,        0, 0,  1]])\n",
      "\n",
      "T3_4 =  Matrix([\n",
      "[ cos(q4), -sin(q4), 0, a3],\n",
      "[       0,        0, 1, d4],\n",
      "[-sin(q4), -cos(q4), 0,  0],\n",
      "[       0,        0, 0,  1]])\n",
      "\n",
      "T4_5 =  Matrix([\n",
      "[cos(q5), -sin(q5),  0, 0],\n",
      "[      0,        0, -1, 0],\n",
      "[sin(q5),  cos(q5),  0, 0],\n",
      "[      0,        0,  0, 1]])\n",
      "\n",
      "T5_6 =  Matrix([\n",
      "[ cos(q6), -sin(q6), 0, 0],\n",
      "[       0,        0, 1, 0],\n",
      "[-sin(q6), -cos(q6), 0, 0],\n",
      "[       0,        0, 0, 1]])\n",
      "\n",
      "T6_G =  Matrix([\n",
      "[0,  0, 1,  0],\n",
      "[0, -1, 0,  0],\n",
      "[1,  0, 0, d7],\n",
      "[0,  0, 0,  1]])\n"
     ]
    }
   ],
   "source": [
    "q1, q2, q3, q4, q5, q6 = symbols('q1:7') #theta\n",
    "a0, a1, a2, a3, a4, a5 = symbols('a0:6')\n",
    "d1, d2, d3, d4, d5, d6, dG = symbols('d1:8')\n",
    "alpha0, alpha1, alpha2, alpha3, alpha4, alpha5 = symbols('alpha0:6')\n",
    "\n",
    "T0_1 = transformation_matrix(0, 0, d1, q1)\n",
    "T1_2 = transformation_matrix(-pi/2, a1, 0, q2 - pi/2) #remember to offset q2 = -pi/2\n",
    "T2_3 = transformation_matrix(0, a2, 0, q3)\n",
    "T3_4 = transformation_matrix(-pi/2, a3, d4, q4)\n",
    "T4_5 = transformation_matrix(pi/2, 0, 0, q5)\n",
    "T5_6 = transformation_matrix(-pi/2, 0, 0, q6)\n",
    "\n",
    "r6_G = rot_z(pi) * rot_y(-pi/2)\n",
    "t6_G = Matrix([[0],[0],[dG]])\n",
    "T6_G = r6_G.row_join(t6_G)\n",
    "T6_G = T6_G.col_join(Matrix([[0,0,0,1]]))\n",
    "\n",
    "print(\"T0_1 = \\n\", simplify(T0_1))\n",
    "print(\"\")\n",
    "print(\"T1_2 = \", simplify(T1_2))\n",
    "print(\"\")\n",
    "print(\"T2_3 = \", simplify(T2_3))\n",
    "print(\"\")\n",
    "print(\"T3_4 = \", simplify(T3_4))\n",
    "print(\"\")\n",
    "print(\"T4_5 = \", simplify(T4_5))\n",
    "print(\"\")\n",
    "print(\"T5_6 = \", simplify(T5_6))\n",
    "print(\"\")\n",
    "print(\"T6_G = \", simplify(T6_G))"
   ]
  },
  {
   "cell_type": "markdown",
   "metadata": {},
   "source": [
    "Getting the homogeneous transform matrix from base_link to gripper_link"
   ]
  },
  {
   "cell_type": "code",
   "execution_count": 39,
   "metadata": {},
   "outputs": [],
   "source": [
    "T0_2 = T0_1*T1_2 #base_link to link_2"
   ]
  },
  {
   "cell_type": "code",
   "execution_count": 40,
   "metadata": {},
   "outputs": [],
   "source": [
    "T0_3 = T0_2*T2_3 #link_2 to link_3"
   ]
  },
  {
   "cell_type": "code",
   "execution_count": 41,
   "metadata": {},
   "outputs": [],
   "source": [
    "T0_4 = T0_3*T3_4 #link_3 to link_4"
   ]
  },
  {
   "cell_type": "code",
   "execution_count": 42,
   "metadata": {},
   "outputs": [],
   "source": [
    "T0_5 = T0_4*T4_5 #link_4 to link_5"
   ]
  },
  {
   "cell_type": "code",
   "execution_count": 46,
   "metadata": {},
   "outputs": [
    {
     "name": "stdout",
     "output_type": "stream",
     "text": [
      "T0_6 =  Matrix([\n",
      "[((sin(q1)*sin(q4) + sin(q2 + q3)*cos(q1)*cos(q4))*cos(q5) + sin(q5)*cos(q1)*cos(q2 + q3))*cos(q6) - (-sin(q1)*cos(q4) + sin(q4)*sin(q2 + q3)*cos(q1))*sin(q6), -((sin(q1)*sin(q4) + sin(q2 + q3)*cos(q1)*cos(q4))*cos(q5) + sin(q5)*cos(q1)*cos(q2 + q3))*sin(q6) + (sin(q1)*cos(q4) - sin(q4)*sin(q2 + q3)*cos(q1))*cos(q6), -(sin(q1)*sin(q4) + sin(q2 + q3)*cos(q1)*cos(q4))*sin(q5) + cos(q1)*cos(q5)*cos(q2 + q3), (a1 + a2*sin(q2) + a3*sin(q2 + q3) + d4*cos(q2 + q3))*cos(q1)],\n",
      "[ ((sin(q1)*sin(q2 + q3)*cos(q4) - sin(q4)*cos(q1))*cos(q5) + sin(q1)*sin(q5)*cos(q2 + q3))*cos(q6) - (sin(q1)*sin(q4)*sin(q2 + q3) + cos(q1)*cos(q4))*sin(q6), -((sin(q1)*sin(q2 + q3)*cos(q4) - sin(q4)*cos(q1))*cos(q5) + sin(q1)*sin(q5)*cos(q2 + q3))*sin(q6) - (sin(q1)*sin(q4)*sin(q2 + q3) + cos(q1)*cos(q4))*cos(q6), -(sin(q1)*sin(q2 + q3)*cos(q4) - sin(q4)*cos(q1))*sin(q5) + sin(q1)*cos(q5)*cos(q2 + q3), (a1 + a2*sin(q2) + a3*sin(q2 + q3) + d4*cos(q2 + q3))*sin(q1)],\n",
      "[                                                                -(sin(q5)*sin(q2 + q3) - cos(q4)*cos(q5)*cos(q2 + q3))*cos(q6) - sin(q4)*sin(q6)*cos(q2 + q3),                                                                  (sin(q5)*sin(q2 + q3) - cos(q4)*cos(q5)*cos(q2 + q3))*sin(q6) - sin(q4)*cos(q6)*cos(q2 + q3),                                     -sin(q5)*cos(q4)*cos(q2 + q3) - sin(q2 + q3)*cos(q5),           a2*cos(q2) + a3*cos(q2 + q3) + d1 - d4*sin(q2 + q3)],\n",
      "[                                                                                                                                                            0,                                                                                                                                                             0,                                                                                        0,                                                             1]]) \n",
      "\n"
     ]
    }
   ],
   "source": [
    "T0_6 = T0_5*T5_6 #link_5 to link_6\n",
    "print(\"T0_6 = \", simplify(T0_6),\"\\n\")"
   ]
  },
  {
   "cell_type": "code",
   "execution_count": 48,
   "metadata": {},
   "outputs": [
    {
     "name": "stdout",
     "output_type": "stream",
     "text": [
      "TG_0 =  Matrix([\n",
      "[-(sin(q1)*sin(q4) + sin(q2 + q3)*cos(q1)*cos(q4))*sin(q5) + cos(q1)*cos(q5)*cos(q2 + q3), ((sin(q1)*sin(q4) + sin(q2 + q3)*cos(q1)*cos(q4))*cos(q5) + sin(q5)*cos(q1)*cos(q2 + q3))*sin(q6) - (sin(q1)*cos(q4) - sin(q4)*sin(q2 + q3)*cos(q1))*cos(q6), ((sin(q1)*sin(q4) + sin(q2 + q3)*cos(q1)*cos(q4))*cos(q5) + sin(q5)*cos(q1)*cos(q2 + q3))*cos(q6) + (sin(q1)*cos(q4) - sin(q4)*sin(q2 + q3)*cos(q1))*sin(q6), a1*cos(q1) + a2*sin(q2)*cos(q1) + a3*sin(q2 + q3)*cos(q1) + d4*cos(q1)*cos(q2 + q3) - d7*((sin(q1)*sin(q4) + sin(q2 + q3)*cos(q1)*cos(q4))*sin(q5) - cos(q1)*cos(q5)*cos(q2 + q3))],\n",
      "[-(sin(q1)*sin(q2 + q3)*cos(q4) - sin(q4)*cos(q1))*sin(q5) + sin(q1)*cos(q5)*cos(q2 + q3), ((sin(q1)*sin(q2 + q3)*cos(q4) - sin(q4)*cos(q1))*cos(q5) + sin(q1)*sin(q5)*cos(q2 + q3))*sin(q6) + (sin(q1)*sin(q4)*sin(q2 + q3) + cos(q1)*cos(q4))*cos(q6), ((sin(q1)*sin(q2 + q3)*cos(q4) - sin(q4)*cos(q1))*cos(q5) + sin(q1)*sin(q5)*cos(q2 + q3))*cos(q6) - (sin(q1)*sin(q4)*sin(q2 + q3) + cos(q1)*cos(q4))*sin(q6), a1*sin(q1) + a2*sin(q1)*sin(q2) + a3*sin(q1)*sin(q2 + q3) + d4*sin(q1)*cos(q2 + q3) - d7*((sin(q1)*sin(q2 + q3)*cos(q4) - sin(q4)*cos(q1))*sin(q5) - sin(q1)*cos(q5)*cos(q2 + q3))],\n",
      "[                                    -sin(q5)*cos(q4)*cos(q2 + q3) - sin(q2 + q3)*cos(q5),                                                                -(sin(q5)*sin(q2 + q3) - cos(q4)*cos(q5)*cos(q2 + q3))*sin(q6) + sin(q4)*cos(q6)*cos(q2 + q3),                                                                -(sin(q5)*sin(q2 + q3) - cos(q4)*cos(q5)*cos(q2 + q3))*cos(q6) - sin(q4)*sin(q6)*cos(q2 + q3),                                                                     a2*cos(q2) + a3*cos(q2 + q3) + d1 - d4*sin(q2 + q3) - d7*(sin(q5)*cos(q4)*cos(q2 + q3) + sin(q2 + q3)*cos(q5))],\n",
      "[                                                                                       0,                                                                                                                                                            0,                                                                                                                                                            0,                                                                                                                                                                                  1]]) \n",
      "\n"
     ]
    }
   ],
   "source": [
    "T0_G = simplify(T0_6*T6_G) #link_6 to link_G\n",
    "print(\"TG_0 = \", simplify(TG_0),\"\\n\")"
   ]
  },
  {
   "cell_type": "markdown",
   "metadata": {},
   "source": [
    "Replacing it with d and a from Kuka arm 210 xacro"
   ]
  },
  {
   "cell_type": "code",
   "execution_count": 49,
   "metadata": {},
   "outputs": [
    {
     "name": "stdout",
     "output_type": "stream",
     "text": [
      "Matrix([\n",
      "[1.0,   0,   0, 2.153],\n",
      "[  0, 1.0,   0,     0],\n",
      "[  0,   0, 1.0, 1.946],\n",
      "[  0,   0,   0,   1.0]])\n",
      "Matrix([\n",
      "[  0,    0, 1.0,  1.85],\n",
      "[  0, -1.0,   0,     0],\n",
      "[1.0,    0,   0, 1.946],\n",
      "[  0,    0,   0,   1.0]])\n",
      "Matrix([\n",
      "[  0, 1.0,   0,  1.85],\n",
      "[  0,   0, 1.0,     0],\n",
      "[1.0,   0,   0, 1.946],\n",
      "[  0,   0,   0,   1.0]])\n",
      "Matrix([\n",
      "[  0,    0, 1.0,  1.85],\n",
      "[  0, -1.0,   0,     0],\n",
      "[1.0,    0,   0, 1.946],\n",
      "[  0,    0,   0,   1.0]])\n",
      "Matrix([\n",
      "[  0, 1.0,   0, 0.35],\n",
      "[  0,   0, 1.0,    0],\n",
      "[1.0,   0,   0,  2.0],\n",
      "[  0,   0,   0,  1.0]])\n"
     ]
    }
   ],
   "source": [
    "# DH Parameters\n",
    "# Get original position to test the results\n",
    "s = {alpha0:     0,  a0:      0, d1: 0.75, q1: 0,\n",
    "     alpha1: -pi/2,  a1:   0.35, d2:    0, q2: 0,\n",
    "     alpha2:     0,  a2:   1.25, d3:    0, q3:0,\n",
    "     alpha3: -pi/2,  a3: -0.054, d4:  1.5, q4:0,\n",
    "     alpha4:  pi/2,  a4:      0, d5:    0, q5: 0,\n",
    "     alpha5: -pi/2,  a5:      0, d6:    0, q6:0,\n",
    "     dG: 0.303 }\n",
    "\n",
    "E_G = T0_G.evalf(subs=s, chop = True)\n",
    "print(simplify(E_G))\n",
    "E_6 = T0_6.evalf(subs=s, chop = True)\n",
    "print(simplify(E_6))\n",
    "\n",
    "E_5 = T0_5.evalf(subs=s, chop = True)\n",
    "print(simplify(E_5))\n",
    "E_4 = T0_4.evalf(subs=s, chop = True)\n",
    "print(simplify(E_4))\n",
    "E_3 = T0_3.evalf(subs=s, chop = True)\n",
    "print(simplify(E_3))"
   ]
  },
  {
   "cell_type": "markdown",
   "metadata": {},
   "source": [
    "### Inverse Kinematics\n",
    "This is to get the forward kinematics"
   ]
  },
  {
   "cell_type": "markdown",
   "metadata": {
    "collapsed": true
   },
   "source": [
    "Solving the first three equations of wrist center.\n",
    "Location of the WC relative to the base frame\n",
    "\n",
    "![alt text](IK_WC.png \"IK: Wrist center\")\n",
    "\n",
    "r13, r23, and r33 define the Z-axis of the EE relative to the base frame, the Cartesian coordinates of the WC is\n",
    "\n",
    "    Wx = Px - (d6 + l)*nx\n",
    "    Wy = Py - (d6 + l)*ny\n",
    "    Wz = Pz - (d6 + l)*nz\n",
    "\n",
    "Where,\n",
    "Px, Py, Pz = end-effector positions\n",
    "Wx, Wy, Wz = wrist positions\n",
    "d6 = from DH table\n",
    "l = end-effector length\n",
    "\n",
    "![alt text](Joint.png \"IK: Joint \")"
   ]
  },
  {
   "cell_type": "markdown",
   "metadata": {},
   "source": [
    "The rotation for the speherical arm is as below, it provides the roll pitch yaw \n",
    "\n",
    "![alt text](rot_spherical.png \"IK: rot_spherical \")\n",
    "\n",
    "For the arm it is translated along the x-axis (according to RViz). thus it would be R * [1 0 0], where we would need r11,r21,r31\n",
    "\n",
    "    Lx = r11 = cos(alpha)*cos(beta)\n",
    "    Ly = r21 = sin(alpha)*cos(beta)\n",
    "    Lz = r31 = -sin(beta)\n",
    "\n",
    "Convention: L = R [1, 0, 0]; M = R [0, 1, 0]; N = R [ 0, 0, 1]"
   ]
  },
  {
   "cell_type": "code",
   "execution_count": 50,
   "metadata": {},
   "outputs": [
    {
     "name": "stdout",
     "output_type": "stream",
     "text": [
      "mod_d4:  1.5  mod_a3:  -0.054\n"
     ]
    }
   ],
   "source": [
    "def formatJointAngles(angle):\n",
    "    if(angle > np.pi):\n",
    "        angle = -(2*np.pi - angle)\n",
    "    if(angle < -np.pi):\n",
    "        angle = 2*np.pi + angle\n",
    "    return angle\n",
    "        \n",
    "\n",
    "# this is to test the IK for q2 and q3\n",
    "def getRRRJointAngles(s):\n",
    "    \n",
    "    px, py, pz, lx, ly, lz = symbols(\"px py pz lx ly lz\")\n",
    "    \n",
    "    px = s.get(px)\n",
    "    py = s.get(py)\n",
    "    pz = s.get(pz)\n",
    "    lx = s.get(lx)\n",
    "    ly = s.get(ly)\n",
    "    lz = s.get(lz)\n",
    "    \n",
    "    #link between joint 2 to 3\n",
    "    l2_l3 = 1.25\n",
    "    #link between joint 3 to wc\n",
    "    l3_wc = sqrt(1.5*1.5 + 0.054*0.054)\n",
    "    #distance in x axis between base link and joint 2\n",
    "    dx0_1 = 0.35\n",
    "    #distance in z axis between base link and joint 2\n",
    "    dz0_1 = 0.75\n",
    "    #distance in gripper to wc\n",
    "    dG_wc = 0.303\n",
    "\n",
    "    #calculating wc\n",
    "    wx = px - (dG_wc)*lx\n",
    "    wy = py - (dG_wc)*ly\n",
    "    wz = pz - (dG_wc)*lz\n",
    "\n",
    "    xc = (sqrt(wx**2 + wy**2) - dx0_1)\n",
    "    zc = (wz - dz0_1)\n",
    "    q1 = theta1 = atan2(wy,wx)\n",
    "\n",
    "    r = (xc*xc + zc*zc - l3_wc*l3_wc - l2_l3*l2_l3)/(2*l3_wc*l2_l3)\n",
    "    theta3 = atan2(sqrt(1-r*r), r)\n",
    "    theta3b = atan2(-sqrt(1-r*r), r) \n",
    "    theta2 = atan2(xc,zc) - atan2(l3_wc*sin(theta3), l2_l3+l3_wc*cos(theta3))\n",
    "    theta2b = atan2(xc,zc) - atan2(l3_wc*sin(theta3b), l2_l3+l3_wc*cos(theta3b))\n",
    "    \n",
    "    q2 = theta2.evalf()\n",
    "    q2b = theta2b.evalf()\n",
    "    q3= (theta3 - np.pi/2).evalf()\n",
    "    q3b= (-theta3b + np.pi/2).evalf()\n",
    "    \n",
    "    # Check for q2,q3. \n",
    "    # q3 should be between -pi and pi/2\n",
    "    # q2, should only be between -pi to pi\n",
    "    if(q3 < -np.pi) or (q3 > np.pi/2) or (q2 < -np.pi) or (q2 > np.pi):\n",
    "        q3 = None\n",
    "        q2 = None\n",
    "    \n",
    "    if(q3b < -np.pi) or (q3b > np.pi/2) or (q2b < -np.pi) or (q2b > np.pi):\n",
    "        q3b = None\n",
    "        q2b = None\n",
    "    \n",
    "    return [wx,wy,wz,q1,q2,q3,q2b,q3b]\n",
    "    \n",
    "\n",
    "l3 = sqrt(0.96*0.96 + 0.054*0.054)\n",
    "mod_a3 = -0.054 # revisit: l3*sin(ik_q3)\n",
    "mod_d4 = 1.5 # revisit:  0.54 + l3*cos(ik_q3)\n",
    "print (\"mod_d4: \", mod_d4, \" mod_a3: \", mod_a3)"
   ]
  },
  {
   "cell_type": "code",
   "execution_count": 51,
   "metadata": {},
   "outputs": [
    {
     "name": "stdout",
     "output_type": "stream",
     "text": [
      "wx: 1.85 , wy:  0.0 , wz:  1.946 , q1: 0 , q2: 2.22044604925031e-16 , q3: 0.0359844600820517 , q2b: None , q3b: None\n",
      "Final q1: 0 , q2: 2.22044604925031e-16 , q3: 0.0359844600820517\n"
     ]
    }
   ],
   "source": [
    "px, py, pz, lx, ly, lz = symbols(\"px py pz lx ly lz\")\n",
    "ik_1 = {px: 2.153, py: 0, pz: 1.946, lx: 1, ly: 0, lz:0}\n",
    "[wx,wy,wz, theta1, theta2, theta3, theta2b, theta3b] = getRRRJointAngles(ik_1)\n",
    "print(\"wx:\", wx, \", wy: \", wy, \", wz: \", wz, \", q1:\", \n",
    "      theta1, \", q2:\", theta2, \", q3:\", theta3, \", q2b:\", theta2b, \", q3b:\", theta3b)\n",
    "\n",
    "if theta2 == None:\n",
    "    q2_final = theta2b\n",
    "    q3_final = theta3b  \n",
    "elif theta2b == None:\n",
    "    q2_final = theta2\n",
    "    q3_final = theta3\n",
    "else:  \n",
    "    s_1 = {alpha0:     0,  a0:      0, d1: 0.75, q1: theta1,\n",
    "         alpha1: -pi/2,  a1:   0.35, d2:    0, q2: theta2,\n",
    "         alpha2:     0,  a2:   1.25, d3:    0, q3: theta3, \n",
    "         alpha3: -pi/2,  a3: mod_a3, d4:  mod_d4, q4:0,\n",
    "         alpha4:  pi/2,  a4:      0, d5:    0, q5: 0,\n",
    "         alpha5: -pi/2,  a5:      0, d6:    0, q6:0,\n",
    "         dG: 0.303 }\n",
    "\n",
    "    opt1 = T0_5.evalf(subs=s_1, chop = True)\n",
    "    print(simplify(opt1))\n",
    "\n",
    "    s_2 = {alpha0:     0,  a0:      0, d1: 0.75, q1: theta1,\n",
    "         alpha1: -pi/2,  a1:   0.35, d2:    0, q2: theta2b,\n",
    "         alpha2:     0,  a2:   1.25, d3:    0, q3: theta3b, \n",
    "         alpha3: -pi/2,  a3: mod_a3, d4:  mod_d4, q4:0,\n",
    "         alpha4:  pi/2,  a4:      0, d5:    0, q5: 0,\n",
    "         alpha5: -pi/2,  a5:      0, d6:    0, q6:0,\n",
    "         dG: 0.303 }\n",
    "\n",
    "    opt2 = T0_5.evalf(subs=s_1, chop = True)\n",
    "    print(simplify(opt2))\n",
    "\n",
    "print(\"Final q1:\", theta1, \", q2:\", q2_final, \", q3:\", q3_final)"
   ]
  },
  {
   "cell_type": "code",
   "execution_count": 52,
   "metadata": {},
   "outputs": [
    {
     "name": "stdout",
     "output_type": "stream",
     "text": [
      "wx: 1.78903 , wy:  -0.90016362 , wz:  1.5800977175000002 , q1: -0.466170309293007 , q2: 0.166188898637931 , q3: 0.105417939069464 , q2b: None , q3b: None\n",
      "Final q1: -0.466170309293007 , q2: 0.166188898637931 , q3: 0.105417939069464\n"
     ]
    }
   ],
   "source": [
    "px, py, pz, lx, ly, lz = symbols(\"px py pz lx ly lz\")\n",
    "ik_1 = {px: 2.089, py: -0.9, pz: 1.58, lx: 0.99, ly: 0.00054, lz:-0.0003225}\n",
    "[wx,wy,wz, theta1, theta2, theta3, theta2b, theta3b] = getRRRJointAngles(ik_1)\n",
    "print(\"wx:\", wx, \", wy: \", wy, \", wz: \", wz, \", q1:\", \n",
    "      theta1, \", q2:\", theta2, \", q3:\", theta3, \", q2b:\", theta2b, \", q3b:\", theta3b)\n",
    "\n",
    "if theta2 == None:\n",
    "    q2_final = theta2b\n",
    "    q3_final = theta3b  \n",
    "elif theta2b == None:\n",
    "    q2_final = theta2\n",
    "    q3_final = theta3\n",
    "else:  \n",
    "    s_1 = {alpha0:     0,  a0:      0, d1: 0.75, q1: theta1,\n",
    "         alpha1: -pi/2,  a1:   0.35, d2:    0, q2: theta2,\n",
    "         alpha2:     0,  a2:   1.25, d3:    0, q3: theta3, \n",
    "         alpha3: -pi/2,  a3: mod_a3, d4:  mod_d4, q4:0,\n",
    "         alpha4:  pi/2,  a4:      0, d5:    0, q5: 0,\n",
    "         alpha5: -pi/2,  a5:      0, d6:    0, q6:0,\n",
    "         dG: 0.303 }\n",
    "\n",
    "    opt1 = T0_5.evalf(subs=s_1, chop = True)\n",
    "    print(simplify(opt1))\n",
    "\n",
    "    s_2 = {alpha0:     0,  a0:      0, d1: 0.75, q1: theta1,\n",
    "         alpha1: -pi/2,  a1:   0.35, d2:    0, q2: theta2b,\n",
    "         alpha2:     0,  a2:   1.25, d3:    0, q3: theta3b, \n",
    "         alpha3: -pi/2,  a3: mod_a3, d4:  mod_d4, q4:0,\n",
    "         alpha4:  pi/2,  a4:      0, d5:    0, q5: 0,\n",
    "         alpha5: -pi/2,  a5:      0, d6:    0, q6:0,\n",
    "         dG: 0.303 }\n",
    "\n",
    "    opt2 = T0_5.evalf(subs=s_1, chop = True)\n",
    "    print(simplify(opt2))\n",
    "\n",
    "print(\"Final q1:\", theta1, \", q2:\", q2_final, \", q3:\", q3_final)"
   ]
  },
  {
   "cell_type": "code",
   "execution_count": 53,
   "metadata": {},
   "outputs": [
    {
     "name": "stdout",
     "output_type": "stream",
     "text": [
      "wx: 0.34550000000000003 , wy:  1.7394 , wz:  1.7424 , q1: 1.37471677392652 , q2: -0.0444420940218329 , q3: 0.216083502962605 , q2b: None , q3b: None\n",
      "Final q1: 1.37471677392652 , q2: -0.0444420940218329 , q3: 0.216083502962605\n"
     ]
    }
   ],
   "source": [
    "px, py, pz, lx, ly, lz = symbols(\"px py pz lx ly lz\")\n",
    "ik_1 = {px: 0.8, py: 1.8, pz: 1.5, lx: 1.5, ly: 0.2, lz: -0.8}\n",
    "[wx,wy,wz, theta1, theta2, theta3, theta2b, theta3b] = getRRRJointAngles(ik_1)\n",
    "print(\"wx:\", wx, \", wy: \", wy, \", wz: \", wz, \", q1:\", \n",
    "      theta1, \", q2:\", theta2, \", q3:\", theta3, \", q2b:\", theta2b, \", q3b:\", theta3b)\n",
    "\n",
    "if theta2 == None:\n",
    "    q2_final = theta2b\n",
    "    q3_final = theta3b  \n",
    "elif theta2b == None:\n",
    "    q2_final = theta2\n",
    "    q3_final = theta3\n",
    "else:  \n",
    "    s_1 = {alpha0:     0,  a0:      0, d1: 0.75, q1: theta1,\n",
    "         alpha1: -pi/2,  a1:   0.35, d2:    0, q2: theta2,\n",
    "         alpha2:     0,  a2:   1.25, d3:    0, q3: theta3, \n",
    "         alpha3: -pi/2,  a3: mod_a3, d4:  mod_d4, q4:0,\n",
    "         alpha4:  pi/2,  a4:      0, d5:    0, q5: 0,\n",
    "         alpha5: -pi/2,  a5:      0, d6:    0, q6:0,\n",
    "         dG: 0.303 }\n",
    "\n",
    "    opt1 = T0_5.evalf(subs=s_1, chop = True)\n",
    "\n",
    "    s_2 = {alpha0:     0,  a0:      0, d1: 0.75, q1: theta1,\n",
    "         alpha1: -pi/2,  a1:   0.35, d2:    0, q2: theta2b,\n",
    "         alpha2:     0,  a2:   1.25, d3:    0, q3: theta3b, \n",
    "         alpha3: -pi/2,  a3: mod_a3, d4:  mod_d4, q4:0,\n",
    "         alpha4:  pi/2,  a4:      0, d5:    0, q5: 0,\n",
    "         alpha5: -pi/2,  a5:      0, d6:    0, q6:0,\n",
    "         dG: 0.303 }\n",
    "\n",
    "    opt2 = T0_5.evalf(subs=s_1, chop = True)\n",
    "    \n",
    "    difference1 = abs(wx - opt1[0,3]) + abs(wy - opt1[1,3]) + abs(wz - opt1[2,3])\n",
    "\n",
    "    difference2 = abs(wx - opt2[0,3]) + abs(wy - opt2[1,3]) + abs(wz - opt2[2,3])\n",
    "    \n",
    "    if(difference1 > difference2):\n",
    "        q2_final = theta2b\n",
    "        q3_final = theta3b\n",
    "    else:\n",
    "        q2_final = theta2\n",
    "        q3_final = theta3\n",
    "        \n",
    "\n",
    "print(\"Final q1:\", theta1, \", q2:\", q2_final, \", q3:\", q3_final)"
   ]
  },
  {
   "cell_type": "code",
   "execution_count": 87,
   "metadata": {
    "collapsed": true
   },
   "outputs": [],
   "source": [
    "# To obtain q4,5,6\n",
    "\n",
    "alpha = yaw = 0.99\n",
    "beta = pitch = 0.00054\n",
    "gamma = roll = 0.0003225\n",
    "roll, pitch, yaw = symbols(\"roll pitch yaw\")\n",
    "Rrpy = Matrix([[cos(alpha)*cos(beta), cos(alpha)*sin(beta)*sin(gamma) - sin(alpha)*cos(gamma), cos(alpha)*sin(beta)*cos(gamma) + sin(alpha)*sin(gamma)], \n",
    "               [sin(alpha)*cos(beta), sin(alpha)*sin(beta)*sin(gamma) + cos(alpha)*cos(gamma), sin(alpha)*sin(beta)*cos(gamma) - cos(alpha)*sin(gamma)],\n",
    "               [          -sin(beta),                                    cos(beta)*sin(gamma), cos(beta)*cos(gamma)]]);"
   ]
  },
  {
   "cell_type": "code",
   "execution_count": 165,
   "metadata": {},
   "outputs": [
    {
     "name": "stdout",
     "output_type": "stream",
     "text": [
      "Matrix([\n",
      "[ 0.157783123196411, 0.0644183998762249,     0.985370364782589],\n",
      "[ 0.913376684595169,  0.369726979566232,    -0.170425915337922],\n",
      "[-0.375296573488653,  0.926904650079078, -0.000501586939935324]])\n",
      "Matrix([\n",
      "[-sin(q4)*sin(q6) + cos(q4)*cos(q5)*cos(q6), -sin(q4)*cos(q6) - sin(q6)*cos(q4)*cos(q5), -sin(q5)*cos(q4)],\n",
      "[                           sin(q5)*cos(q6),                           -sin(q5)*sin(q6),          cos(q5)],\n",
      "[-sin(q4)*cos(q5)*cos(q6) - sin(q6)*cos(q4),  sin(q4)*sin(q6)*cos(q5) - cos(q4)*cos(q6),  sin(q4)*sin(q5)]])\n"
     ]
    }
   ],
   "source": [
    "s = {alpha0:     0,  a0:      0, d1: 0.75, q1: theta1,\n",
    "         alpha1: -pi/2,  a1:   0.35, d2:    0, q2: q2_final,\n",
    "         alpha2:     0,  a2:   1.25, d3:    0, q3: q3_final, \n",
    "         alpha3: -pi/2,  a3: mod_a3, d4:  mod_d4, q4:0,\n",
    "         alpha4:  pi/2,  a4:      0, d5:    0, q5: 0,\n",
    "         alpha5: -pi/2,  a5:      0, d6:    0, q6:0,\n",
    "         dG: 0.303 }\n",
    "\n",
    "\n",
    "R0_3 = T0_3[:3,:3].evalf(subs=s, chop = True)\n",
    "E3_6 = R0_3.inv() * Rrpy\n",
    "R3_6 = (T3_4*T4_5*T5_6)[:3,:3]\n",
    "\n",
    "print(simplify(E3_6))\n",
    "print(simplify(R3_6))"
   ]
  },
  {
   "cell_type": "code",
   "execution_count": 167,
   "metadata": {},
   "outputs": [],
   "source": [
    "# cos(q5) can be solved instantly, since its negative, there are two possibilites.\n",
    "theta5 = acos(E3_6[1,2])\n",
    "if(theta5 > 0):\n",
    "    theta5b = theta5-2*np.pi\n",
    "else:\n",
    "    theta5b = theta5+2*np.pi\n",
    "\n",
    "theta4 = asin(E3_6[2,2]/sin(theta5))\n",
    "# -sin(q5)*cos(q4) should be the sign same E3_6[0,2]\n",
    "if(np.sign(-sin(theta5)*cos(theta4)) != np.sign(E3_6[0,2])):\n",
    "    theta4 = np.pi-theta4\n",
    "\n",
    "theta4b = asin(E3_6[2,2]/sin(theta5b))\n",
    "# -sin(q5)*cos(q4) should be the sign same E3_6[0,2]\n",
    "if(np.sign(-sin(theta5b)*cos(theta4b)) != np.sign(E3_6[0,2])):\n",
    "    theta4b = np.pi-theta4b\n",
    "\n",
    "if(math.isclose(theta4,theta4b)):\n",
    "    theta4b = None\n",
    "\n",
    "theta6 = asin(-E3_6[1,1]/sin(theta5))\n",
    "# -sin(q5)*sin(q6) should be the sign same E3_6[1,1]\n",
    "if(np.sign(sin(theta5)*cos(theta6)) != np.sign(E3_6[1,0])):\n",
    "    theta6 = np.pi-theta6\n",
    "\n",
    "theta6b = asin(-E3_6[1,1]/sin(theta5b))\n",
    "# -sin(q5)*sin(q6) should be the sign same E3_6[1,1]\n",
    "if(np.sign(sin(theta5b)*cos(theta6b)) != np.sign(E3_6[1,0])):\n",
    "    theta6b = np.pi-theta6b\n",
    "\n",
    "if(math.isclose(theta6,theta6b)):\n",
    "    theta6b = None\n"
   ]
  },
  {
   "cell_type": "code",
   "execution_count": 168,
   "metadata": {},
   "outputs": [
    {
     "name": "stdout",
     "output_type": "stream",
     "text": [
      "Matrix([\n",
      "[ 0.157783123196411, 0.0644183998762238,     0.985370364782589],\n",
      "[ 0.913376684595169,  0.369726979566232,    -0.170425915337923],\n",
      "[-0.375296573488653,  0.926904650079078, -0.000501586939935229]])\n"
     ]
    }
   ],
   "source": [
    "# verify what was calculated for q4,q5,q6\n",
    "# Matrix([\n",
    "# [ 0.157783123196411, 0.0644183998762249,     0.985370364782589],\n",
    "# [ 0.913376684595169,  0.369726979566232,    -0.170425915337922],\n",
    "# [-0.375296573488653,  0.926904650079078, -0.000501586939935324]])\n",
    "s = {alpha0:     0,  a0:      0, d1: 0.75, q1: theta1,\n",
    "         alpha1: -pi/2,  a1:   0.35, d2:    0, q2: q2_final,\n",
    "         alpha2:     0,  a2:   1.25, d3:    0, q3: q3_final, \n",
    "         alpha3: -pi/2,  a3: mod_a3, d4:  mod_d4, q4: theta4,\n",
    "         alpha4:  pi/2,  a4:      0, d5:    0, q5: theta5,\n",
    "         alpha5: -pi/2,  a5:      0, d6:    0, q6: theta6,\n",
    "         dG: 0.303 }\n",
    "E3_6_check = R3_6[:3,:3].evalf(subs=s, chop = True)\n",
    "print(simplify(E3_6_check))"
   ]
  },
  {
   "cell_type": "code",
   "execution_count": null,
   "metadata": {
    "collapsed": true
   },
   "outputs": [],
   "source": []
  }
 ],
 "metadata": {
  "kernelspec": {
   "display_name": "Python 3",
   "language": "python",
   "name": "python3"
  },
  "language_info": {
   "codemirror_mode": {
    "name": "ipython",
    "version": 3
   },
   "file_extension": ".py",
   "mimetype": "text/x-python",
   "name": "python",
   "nbconvert_exporter": "python",
   "pygments_lexer": "ipython3",
   "version": "3.5.2"
  },
  "widgets": {
   "state": {},
   "version": "1.1.2"
  }
 },
 "nbformat": 4,
 "nbformat_minor": 2
}
